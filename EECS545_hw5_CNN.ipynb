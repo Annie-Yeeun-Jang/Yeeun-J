{
  "nbformat": 4,
  "nbformat_minor": 0,
  "metadata": {
    "colab": {
      "name": "EECS545_hw5_CNN.ipynb",
      "provenance": [],
      "collapsed_sections": [],
      "authorship_tag": "ABX9TyOFpXPWi4Uoye1YbZN/xrSn",
      "include_colab_link": true
    },
    "kernelspec": {
      "name": "python3",
      "display_name": "Python 3"
    },
    "language_info": {
      "name": "python"
    },
    "accelerator": "GPU"
  },
  "cells": [
    {
      "cell_type": "markdown",
      "metadata": {
        "id": "view-in-github",
        "colab_type": "text"
      },
      "source": [
        "<a href=\"https://colab.research.google.com/github/Annie-Yeeun-Jang/Yeeun-J/blob/master/EECS545_hw5_CNN.ipynb\" target=\"_parent\"><img src=\"https://colab.research.google.com/assets/colab-badge.svg\" alt=\"Open In Colab\"/></a>"
      ]
    },
    {
      "cell_type": "code",
      "metadata": {
        "id": "tk-Wtqk6hUfW",
        "colab": {
          "base_uri": "https://localhost:8080/"
        },
        "outputId": "2ebf726c-588f-4278-de36-6f1bf2c9139c"
      },
      "source": [
        "from google.colab import drive\n",
        "drive.mount('/content/drive')"
      ],
      "execution_count": 1,
      "outputs": [
        {
          "output_type": "stream",
          "name": "stdout",
          "text": [
            "Drive already mounted at /content/drive; to attempt to forcibly remount, call drive.mount(\"/content/drive\", force_remount=True).\n"
          ]
        }
      ]
    },
    {
      "cell_type": "code",
      "metadata": {
        "id": "gyRRAiVQ_3z7",
        "colab": {
          "base_uri": "https://localhost:8080/"
        },
        "outputId": "4b07e02d-a52d-4fb2-a6c1-f410c4379a7d"
      },
      "source": [
        "cd /content/drive/MyDrive/EECS545/hw5/hw5_p2"
      ],
      "execution_count": 2,
      "outputs": [
        {
          "output_type": "stream",
          "name": "stdout",
          "text": [
            "/content/drive/MyDrive/EECS545/hw5/hw5_p2\n"
          ]
        }
      ]
    },
    {
      "cell_type": "markdown",
      "metadata": {
        "id": "oTI-m-JvlCEM"
      },
      "source": [
        "My code https://github.com/bjpublic/DeepLearningProject/blob/main/plant_leaf/PART_04_Plant_Leaf_Classification.ipynb"
      ]
    },
    {
      "cell_type": "code",
      "metadata": {
        "id": "BAxEVnUoiMks"
      },
      "source": [
        "# EECS 545 Fall 2021\n",
        "# dataset.py\n",
        "import os\n",
        "import matplotlib.pyplot as plt\n",
        "import numpy as np\n",
        "\n",
        "import torch\n",
        "import torchvision\n",
        "import torchvision.transforms as transforms\n",
        "\n",
        "\n",
        "class DogDataset:\n",
        "    \"\"\"\n",
        "    Dog Dataset.\n",
        "    \"\"\"\n",
        "    def __init__(self, batch_size=4, dataset_path='data/images/dogs', if_resize=True):\n",
        "        self.batch_size = batch_size\n",
        "        self.dataset_path = dataset_path\n",
        "        self.if_resize = if_resize\n",
        "        self.train_dataset = self.get_train_numpy()\n",
        "        self.x_mean, self.x_std = self.compute_train_statistics()\n",
        "        self.transform = self.get_transforms()\n",
        "        self.train_loader, self.val_loader = self.get_dataloaders()\n",
        "\n",
        "    def get_train_numpy(self):\n",
        "        train_dataset = torchvision.datasets.ImageFolder(os.path.join(self.dataset_path, 'train'))\n",
        "        train_x = np.zeros((len(train_dataset), 224, 224, 3))\n",
        "        \n",
        "        for i, (img, _) in enumerate(train_dataset):\n",
        "            train_x[i] = img\n",
        "        return train_x / 255.0\n",
        "\n",
        "    def compute_train_statistics(self):\n",
        "        # TODO (part a): compute per-channel mean and std with respect to self.train_dataset\n",
        "        x_mean = np.mean(self.train_dataset, axis=(0,1,2))  # per-channel mean\n",
        "        x_std = np.std(self.train_dataset, axis=(0,1,2))   # per-channel std\n",
        "        return x_mean, x_std\n",
        "\n",
        "    def get_transforms(self): #torchvision.transforms\n",
        "        if self.if_resize:\n",
        "            # TODO (part a): fill in the data transforms\n",
        "            transform_list = [\n",
        "            transforms.Resize((32,32)), # resize the image to 32x32x3\n",
        "            transforms.ToTensor(), # convert image to PyTorch tensor\n",
        "            transforms.Normalize(self.x_mean, self.x_std) # normalize the image (use self.x_mean and self.x_std)\n",
        "        ]\n",
        "        else: \n",
        "            # TODO (part f): fill in the data transforms\n",
        "            # Note: Only change from part a) is there is no need to resize the image \n",
        "            transform_list = [\n",
        "            transforms.ToTensor(), # convert image to PyTorch tensor\n",
        "            transforms.Normalize(self.x_mean, self.x_std) # normalize the image (use self.x_mean and self.x_std)\n",
        "        ]\n",
        "        transform = transforms.Compose(transform_list)\n",
        "        return transform\n",
        "\n",
        "    def get_dataloaders(self):\n",
        "        # train set\n",
        "        train_set = torchvision.datasets.ImageFolder(os.path.join(self.dataset_path, 'train'), transform=self.transform)\n",
        "        train_loader = torch.utils.data.DataLoader(train_set, batch_size=self.batch_size, shuffle=True)\n",
        "\n",
        "        # validation set\n",
        "        val_set = torchvision.datasets.ImageFolder(os.path.join(self.dataset_path, 'val'), transform=self.transform)\n",
        "        val_loader = torch.utils.data.DataLoader(val_set, batch_size=self.batch_size, shuffle=False)\n",
        "\n",
        "        return train_loader, val_loader\n",
        "\n",
        "    def plot_image(self, image, label):\n",
        "        image = np.transpose(image.numpy(), (1, 2, 0))\n",
        "        image = image * self.x_std.reshape(1, 1, 3) + self.x_mean.reshape(1, 1, 3)  # un-normalize\n",
        "        plt.title(label)\n",
        "        plt.imshow((image*255).astype('uint8'))\n",
        "        plt.show()\n",
        "\n",
        "    def get_semantic_label(self, label):\n",
        "        mapping = {'chihuahua': 0, 'dalmatian': 1, 'golden_retriever': 2, 'samoyed': 3, 'siberian_husky': 4}\n",
        "        reverse_mapping = {v: k for k, v in mapping.items()}\n",
        "        return reverse_mapping[label]\n",
        "\n",
        "\n",
        "class DogCatDataset:\n",
        "    \"\"\"\n",
        "    Cat vs. Dog Dataset.\n",
        "    \"\"\"\n",
        "    def __init__(self, batch_size=4, dataset_path='data/images/dogs_vs_cats'):\n",
        "        self.batch_size = batch_size\n",
        "        self.dataset_path = dataset_path\n",
        "        self.transform = self.get_transforms()\n",
        "        self.train_loader, self.val_loader = self.get_dataloaders()\n",
        "\n",
        "    def get_transforms(self):\n",
        "        # TODO (part g): fill in the data transforms\n",
        "        transform_list = [\n",
        "            transforms.Resize((256,256)),# resize the image to 256x256x3\n",
        "            transforms.CenterCrop((224,224)),# crop the image at the center of size 224x224x3\n",
        "            transforms.ToTensor(), # convert image to PyTorch tensor\n",
        "            transforms.Normalize([0.485,0.456,0.406], [0.229, 0.224, 0.225])# normalize the image\n",
        "        ]\n",
        "        transform = transforms.Compose(transform_list)\n",
        "        return transform\n",
        "\n",
        "    def get_dataloaders(self):\n",
        "        # train set\n",
        "        train_set = torchvision.datasets.ImageFolder(os.path.join(self.dataset_path, 'train'), transform=self.transform)\n",
        "        train_loader = torch.utils.data.DataLoader(train_set, batch_size=self.batch_size, shuffle=True)\n",
        "\n",
        "        # validation set\n",
        "        val_set = torchvision.datasets.ImageFolder(os.path.join(self.dataset_path, 'val'), transform=self.transform)\n",
        "        val_loader = torch.utils.data.DataLoader(val_set, batch_size=self.batch_size, shuffle=False)\n",
        "\n",
        "        return train_loader, val_loader\n",
        "\n"
      ],
      "execution_count": 3,
      "outputs": []
    },
    {
      "cell_type": "code",
      "metadata": {
        "colab": {
          "base_uri": "https://localhost:8080/"
        },
        "id": "nV5VjBiAHYqp",
        "outputId": "22d6a87a-7ad4-4998-afb5-ede8a186d60d"
      },
      "source": [
        "dataset = DogDataset()\n",
        "print(dataset.x_mean, dataset.x_std)\n",
        "images, labels = iter(dataset.train_loader).next() #returns train loader "
      ],
      "execution_count": 4,
      "outputs": [
        {
          "output_type": "stream",
          "name": "stdout",
          "text": [
            "[0.50161345 0.45612671 0.3824407 ] [0.24617303 0.23615181 0.23905821]\n"
          ]
        }
      ]
    },
    {
      "cell_type": "code",
      "metadata": {
        "colab": {
          "base_uri": "https://localhost:8080/",
          "height": 151
        },
        "id": "khskPhPMHing",
        "outputId": "f3acc84e-b0fc-4409-f1df-0e337ecad2a7"
      },
      "source": [
        "dataset.plot_image(\n",
        "    torchvision.utils.make_grid(images),\n",
        "    ', '.join([dataset.get_semantic_label(label.item()) for label in labels]))"
      ],
      "execution_count": 5,
      "outputs": [
        {
          "output_type": "display_data",
          "data": {
            "image/png": "[encoded data removed]",
            "text/plain": [
              "<Figure size 432x288 with 1 Axes>"
            ]
          },
          "metadata": {
            "needs_background": "light"
          }
        }
      ]
    },
    {
      "cell_type": "code",
      "metadata": {
        "id": "eJBSFT_zvN9V"
      },
      "source": [
        "# EECS 545 Fall 2021\n",
        "# model.py\n",
        "import math\n",
        "import torch.nn as nn\n",
        "import torch.nn.functional as F\n",
        "\n",
        "\n",
        "class CNN(nn.Module):\n",
        "    \"\"\"\n",
        "    Convolutional Neural Network.\n",
        "    \"\"\"\n",
        "    def __init__(self):\n",
        "        super().__init__()\n",
        "\n",
        "        # TODO (part c): define layers\n",
        "        self.conv1 = nn.Conv2d(3, 16, 5, stride=2, padding=2)  # convolutional layer 1\n",
        "        self.conv2 = nn.Conv2d(16, 32, 5, stride=2, padding=2)  # convolutional layer 2\n",
        "        self.conv3 = nn.Conv2d(32, 64, 5, stride=2, padding=2)  # convolutional layer 3\n",
        "        self.conv4 = nn.Conv2d(64, 128, 5, stride=2, padding=2)  # convolutional layer 4\n",
        "        self.fc1 = nn.Linear(128*2*2,64)  # fully connected layer 1 \n",
        "        self.fc2 = nn.Linear(64,5)  # fully connected layer 2 (output layer)\n",
        "\n",
        "        self.init_weights()\n",
        "\n",
        "    def init_weights(self):\n",
        "        for conv in [self.conv1, self.conv2, self.conv3, self.conv4]:\n",
        "            print(\"conv: \",conv)\n",
        "            C_in = conv.weight.size(1)\n",
        "            nn.init.normal_(conv.weight, 0.0, 1 / math.sqrt(5 * 2.5 * C_in)) # 2/(5*5*input)\n",
        "            nn.init.constant_(conv.bias, 0.0)\n",
        "\n",
        "        # TODO (part c): initialize parameters for fully connected layers\n",
        "        for fc in [self.fc1, self.fc2]:\n",
        "            F_in = fc.weight.size(1)\n",
        "            nn.init.normal_(fc.weight, 0.0, 1 / math.sqrt(0.5*F_in)) #(tensor, mean, std)#체크하기 !!(F21 변경사항)\n",
        "            nn.init.constant_(fc.bias, 0.0)\n",
        "\n",
        "    def forward(self, x):\n",
        "        N, C, H, W = x.shape\n",
        "\n",
        "        # TODO (part c): forward pass of image through the network\n",
        "        x = self.conv1(x)\n",
        "        x = F.relu(x)\n",
        "        x = self.conv2(x)\n",
        "        x = F.relu(x)\n",
        "        x = self.conv3(x)\n",
        "        x = F.relu(x)\n",
        "        x = self.conv4(x)\n",
        "        x = F.relu(x)\n",
        "        x = x.view(N, -1)  # flatten\n",
        "        x = self.fc1(x)\n",
        "        x = F.relu(x)\n",
        "        x = self.fc2(x) \n",
        "\n",
        "        return x #no activation function\n",
        "\n",
        "\n",
        "def count_parameters(model):\n",
        "    return sum(p.numel() for p in model.parameters() if p.requires_grad)\n"
      ],
      "execution_count": 6,
      "outputs": []
    },
    {
      "cell_type": "code",
      "metadata": {
        "colab": {
          "base_uri": "https://localhost:8080/"
        },
        "id": "B74S4jSsHqW3",
        "outputId": "6666b64a-75d9-4c01-9193-23c66f9700cb"
      },
      "source": [
        "from dataset import DogDataset\n",
        "net = CNN()\n",
        "print(net)\n",
        "print('Number of CNN parameters: {}'.format(count_parameters(net)))"
      ],
      "execution_count": 7,
      "outputs": [
        {
          "output_type": "stream",
          "name": "stdout",
          "text": [
            "conv:  Conv2d(3, 16, kernel_size=(5, 5), stride=(2, 2), padding=(2, 2))\n",
            "conv:  Conv2d(16, 32, kernel_size=(5, 5), stride=(2, 2), padding=(2, 2))\n",
            "conv:  Conv2d(32, 64, kernel_size=(5, 5), stride=(2, 2), padding=(2, 2))\n",
            "conv:  Conv2d(64, 128, kernel_size=(5, 5), stride=(2, 2), padding=(2, 2))\n",
            "CNN(\n",
            "  (conv1): Conv2d(3, 16, kernel_size=(5, 5), stride=(2, 2), padding=(2, 2))\n",
            "  (conv2): Conv2d(16, 32, kernel_size=(5, 5), stride=(2, 2), padding=(2, 2))\n",
            "  (conv3): Conv2d(32, 64, kernel_size=(5, 5), stride=(2, 2), padding=(2, 2))\n",
            "  (conv4): Conv2d(64, 128, kernel_size=(5, 5), stride=(2, 2), padding=(2, 2))\n",
            "  (fc1): Linear(in_features=512, out_features=64, bias=True)\n",
            "  (fc2): Linear(in_features=64, out_features=5, bias=True)\n",
            ")\n",
            "Number of CNN parameters: 303397\n"
          ]
        }
      ]
    },
    {
      "cell_type": "code",
      "metadata": {
        "colab": {
          "base_uri": "https://localhost:8080/"
        },
        "id": "kU8-ZW_MIPx8",
        "outputId": "c19fa447-1be0-4df9-e70a-917435bc3f7b"
      },
      "source": [
        "dataset = DogDataset()\n",
        "images, labels = iter(dataset.train_loader).next()\n",
        "print('Size of model output:', net(images).size())"
      ],
      "execution_count": 24,
      "outputs": [
        {
          "output_type": "stream",
          "name": "stdout",
          "text": [
            "Size of model output: torch.Size([4, 5])\n"
          ]
        }
      ]
    },
    {
      "cell_type": "code",
      "metadata": {
        "id": "77BqWLH0vOCk"
      },
      "source": [
        "# EECS 545 Fall 2021\n",
        "# train.py\n",
        "import torch\n",
        "import numpy as np\n",
        "import random\n",
        "import checkpoint\n",
        "from dataset import DogDataset, DogCatDataset\n",
        "from model import CNN\n",
        "from plot import Plotter\n",
        "\n",
        "torch.manual_seed(0)\n",
        "np.random.seed(0)\n",
        "random.seed(0)\n",
        "\n",
        "\n",
        "def predictions(logits):\n",
        "    \"\"\"\n",
        "    Compute the predictions from the model.\n",
        "    Inputs:\n",
        "        - logits: output of our model based on some input, tensor with shape=(batch_size, num_classes)\n",
        "    Returns:\n",
        "        - pred: predictions of our model, tensor with shape=(batch_size)\n",
        "    \"\"\"\n",
        "    # TODO (part d): compute the predictions\n",
        "    _, pred = torch.max(logits, 1)\n",
        "    \n",
        "    return torch.zeros(logits.size(0))\n",
        "\n",
        "\n",
        "def accuracy(y_true, y_pred):\n",
        "    \"\"\"\n",
        "    Compute the accuracy given true and predicted labels.\n",
        "    Inputs:\n",
        "        - y_true: true labels, tensor with shape=(num_examples)\n",
        "        - y_pred: predicted labels, tensor with shape=(num_examples)\n",
        "    Returns:\n",
        "        - acc: accuracy, float\n",
        "    \"\"\"\n",
        "    # TODO (part d): compute the accuracy\n",
        "    return (y_pred == y_true).sum().item() / y_true.size(0)\n",
        "\n",
        "\n",
        "def _train_epoch(train_loader, model, criterion, optimizer):\n",
        "    \"\"\"\n",
        "    Train the model for one iteration through the train set.\n",
        "    \"\"\"\n",
        "    for i, (X, y) in enumerate(train_loader):\n",
        "        # clear parameter gradients\n",
        "        optimizer.zero_grad()\n",
        "\n",
        "        # forward + backward + optimize\n",
        "        output = model(X)\n",
        "        loss = criterion(output, y)\n",
        "        loss.backward()\n",
        "        optimizer.step()\n",
        "\n",
        "\n",
        "def _evaluate_epoch(plotter, train_loader, val_loader, model, criterion, epoch):\n",
        "    \"\"\"\n",
        "    Evaluates the model on the train and validation set.\n",
        "    \"\"\"\n",
        "    stat = []\n",
        "    for data_loader in [val_loader, train_loader]:\n",
        "        y_true, y_pred, running_loss = evaluate_loop(data_loader, model, criterion)\n",
        "        total_loss = np.sum(running_loss) / y_true.size(0)\n",
        "        total_acc = accuracy(y_true, y_pred)\n",
        "        stat += [total_acc, total_loss]\n",
        "    plotter.stats.append(stat)\n",
        "    plotter.log_cnn_training(epoch)\n",
        "    plotter.update_cnn_training_plot(epoch)\n",
        "\n",
        "\n",
        "def evaluate_loop(data_loader, model, criterion=None):\n",
        "    model.eval()\n",
        "    y_true, y_pred, running_loss = [], [], []\n",
        "    for X, y in data_loader:\n",
        "        with torch.no_grad():\n",
        "            output = model(X)\n",
        "            predicted = predictions(output.data)\n",
        "            y_true.append(y)\n",
        "            y_pred.append(predicted)\n",
        "            if criterion is not None:\n",
        "                running_loss.append(criterion(output, y).item() * X.size(0))\n",
        "    model.train()\n",
        "    y_true, y_pred = torch.cat(y_true), torch.cat(y_pred)\n",
        "    return y_true, y_pred, running_loss\n",
        "\n",
        "\n",
        "def train(config, dataset, model):\n",
        "    # Data loaders\n",
        "    train_loader, val_loader = dataset.train_loader, dataset.val_loader\n",
        "\n",
        "    if 'use_weighted' not in config:\n",
        "        # TODO (part d): define loss function\n",
        "        criterion = torch.nn.CrossEntropyLoss()\n",
        "    else:\n",
        "        # TODO (part h): define weighted loss function\n",
        "        criterion = torch.nn.CrossEntropyLoss(weight=torch.FloatTensor([1., 20.]))\n",
        "        \n",
        "    # TODO (part d): define optimizer\n",
        "    learning_rate = config['learning_rate']\n",
        "    momentum = config['momentum']\n",
        "    optimizer = torch.optim.SGD(model.parameters(), lr=learning_rate, momentum=momentum )\n",
        "\n",
        "    # Attempts to restore the latest checkpoint if exists\n",
        "    print('Loading model...')\n",
        "    force = config['ckpt_force'] if 'ckpt_force' in config else False\n",
        "    model, start_epoch, stats = checkpoint.restore_checkpoint(model, config['ckpt_path'], force=force)\n",
        "\n",
        "    # Create plotter\n",
        "    plot_name = config['plot_name'] if 'plot_name' in config else 'CNN'\n",
        "    plotter = Plotter(stats, plot_name)\n",
        "\n",
        "    # Evaluate the model\n",
        "    _evaluate_epoch(plotter, train_loader, val_loader, model, criterion, start_epoch)\n",
        "\n",
        "    # Loop over the entire dataset multiple times\n",
        "    for epoch in range(start_epoch, config['num_epoch']):\n",
        "        # Train model on training set\n",
        "        _train_epoch(train_loader, model, criterion, optimizer)\n",
        "\n",
        "        # Evaluate model on training and validation set\n",
        "        _evaluate_epoch(plotter, train_loader, val_loader, model, criterion, epoch + 1)\n",
        "\n",
        "        # Save model parameters\n",
        "        checkpoint.save_checkpoint(model, epoch + 1, config['ckpt_path'], plotter.stats)\n",
        "\n",
        "    print('Finished Training')\n",
        "\n",
        "    # Save figure and keep plot open\n",
        "    plotter.save_cnn_training_plot()\n",
        "    plotter.hold_training_plot()\n",
        "\n"
      ],
      "execution_count": 8,
      "outputs": []
    },
    {
      "cell_type": "code",
      "metadata": {
        "id": "cflHudKJBpsm",
        "colab": {
          "base_uri": "https://localhost:8080/"
        },
        "outputId": "aed079f7-263e-4f63-a389-93fee852d166"
      },
      "source": [
        "!python3 dataset.py"
      ],
      "execution_count": 14,
      "outputs": [
        {
          "output_type": "stream",
          "name": "stdout",
          "text": [
            "[0.50161345 0.45612671 0.3824407 ] [0.24617303 0.23615181 0.23905821]\n",
            "<Figure size 640x480 with 1 Axes>\n"
          ]
        }
      ]
    },
    {
      "cell_type": "code",
      "metadata": {
        "colab": {
          "base_uri": "https://localhost:8080/"
        },
        "id": "1tNxLWOQQA-a",
        "outputId": "64fae0da-0eee-43cc-b3f3-38dff8b192ae"
      },
      "source": [
        "!python3 model.py"
      ],
      "execution_count": 15,
      "outputs": [
        {
          "output_type": "stream",
          "name": "stdout",
          "text": [
            "conv:  Conv2d(3, 16, kernel_size=(5, 5), stride=(2, 2), padding=(2, 2))\n",
            "conv:  Conv2d(16, 32, kernel_size=(5, 5), stride=(2, 2), padding=(2, 2))\n",
            "conv:  Conv2d(32, 64, kernel_size=(5, 5), stride=(2, 2), padding=(2, 2))\n",
            "conv:  Conv2d(64, 128, kernel_size=(5, 5), stride=(2, 2), padding=(2, 2))\n",
            "CNN(\n",
            "  (conv1): Conv2d(3, 16, kernel_size=(5, 5), stride=(2, 2), padding=(2, 2))\n",
            "  (conv2): Conv2d(16, 32, kernel_size=(5, 5), stride=(2, 2), padding=(2, 2))\n",
            "  (conv3): Conv2d(32, 64, kernel_size=(5, 5), stride=(2, 2), padding=(2, 2))\n",
            "  (conv4): Conv2d(64, 128, kernel_size=(5, 5), stride=(2, 2), padding=(2, 2))\n",
            "  (fc1): Linear(in_features=512, out_features=64, bias=True)\n",
            "  (fc2): Linear(in_features=64, out_features=5, bias=True)\n",
            ")\n",
            "Number of CNN parameters: 303397\n",
            "Size of model output: torch.Size([4, 5])\n"
          ]
        }
      ]
    },
    {
      "cell_type": "code",
      "metadata": {
        "colab": {
          "base_uri": "https://localhost:8080/"
        },
        "id": "4Aa096UeQZRc",
        "outputId": "6707511d-d43f-44dc-f7d6-3f16b2df54ea"
      },
      "source": [
        "!python3 train.py"
      ],
      "execution_count": 16,
      "outputs": [
        {
          "output_type": "stream",
          "name": "stdout",
          "text": [
            "conv:  Conv2d(3, 16, kernel_size=(5, 5), stride=(2, 2), padding=(2, 2))\n",
            "conv:  Conv2d(16, 32, kernel_size=(5, 5), stride=(2, 2), padding=(2, 2))\n",
            "conv:  Conv2d(32, 64, kernel_size=(5, 5), stride=(2, 2), padding=(2, 2))\n",
            "conv:  Conv2d(64, 128, kernel_size=(5, 5), stride=(2, 2), padding=(2, 2))\n",
            "Loading model...\n",
            "No saved model parameters found\n",
            "Setting up interactive graph...\n",
            "Epoch 0\n",
            "\tValidation Loss: 1.7692522895641816\n",
            "\tValidation Accuracy: 0.22115384615384615\n",
            "\tTrain Loss: 1.7470487117767335\n",
            "\tTrain Accuracy: 0.2\n",
            "<Figure size 1000x500 with 2 Axes>\n",
            "Epoch 1\n",
            "\tValidation Loss: 1.4260341746684833\n",
            "\tValidation Accuracy: 0.22115384615384615\n",
            "\tTrain Loss: 1.2187618803977966\n",
            "\tTrain Accuracy: 0.2\n",
            "Epoch 2\n",
            "\tValidation Loss: 1.415785075762333\n",
            "\tValidation Accuracy: 0.22115384615384615\n",
            "\tTrain Loss: 1.0074722006320953\n",
            "\tTrain Accuracy: 0.2\n",
            "Epoch 3\n",
            "\tValidation Loss: 1.2918358620924828\n",
            "\tValidation Accuracy: 0.22115384615384615\n",
            "\tTrain Loss: 0.6934608737230301\n",
            "\tTrain Accuracy: 0.2\n",
            "Epoch 4\n",
            "\tValidation Loss: 1.460373586569077\n",
            "\tValidation Accuracy: 0.22115384615384615\n",
            "\tTrain Loss: 0.5154130754470825\n",
            "\tTrain Accuracy: 0.2\n",
            "Epoch 5\n",
            "\tValidation Loss: 1.682898963109041\n",
            "\tValidation Accuracy: 0.22115384615384615\n",
            "\tTrain Loss: 0.37914427752792834\n",
            "\tTrain Accuracy: 0.2\n",
            "Epoch 6\n",
            "\tValidation Loss: 1.6610330997321467\n",
            "\tValidation Accuracy: 0.22115384615384615\n",
            "\tTrain Loss: 0.2713310693129897\n",
            "\tTrain Accuracy: 0.2\n",
            "Epoch 7\n",
            "\tValidation Loss: 1.9269463154726112\n",
            "\tValidation Accuracy: 0.22115384615384615\n",
            "\tTrain Loss: 0.07634624110488221\n",
            "\tTrain Accuracy: 0.2\n",
            "Epoch 8\n",
            "\tValidation Loss: 2.2023923821174183\n",
            "\tValidation Accuracy: 0.22115384615384615\n",
            "\tTrain Loss: 0.04789408022537828\n",
            "\tTrain Accuracy: 0.2\n",
            "Epoch 9\n",
            "\tValidation Loss: 1.9989187750272834\n",
            "\tValidation Accuracy: 0.22115384615384615\n",
            "\tTrain Loss: 0.0253945164848119\n",
            "\tTrain Accuracy: 0.2\n",
            "Epoch 10\n",
            "\tValidation Loss: 2.27476683003419\n",
            "\tValidation Accuracy: 0.22115384615384615\n",
            "\tTrain Loss: 0.007233055356191471\n",
            "\tTrain Accuracy: 0.2\n",
            "Finished Training\n",
            "<Figure size 640x480 with 0 Axes>\n"
          ]
        }
      ]
    },
    {
      "cell_type": "code",
      "metadata": {
        "colab": {
          "base_uri": "https://localhost:8080/"
        },
        "id": "YnIbUeeJQvRH",
        "outputId": "d429e685-d5f0-4e2c-b5a1-b66fcb9cdb83"
      },
      "source": [
        "!python transfer.py"
      ],
      "execution_count": null,
      "outputs": [
        {
          "output_type": "stream",
          "name": "stdout",
          "text": [
            "Downloading: \"https://download.pytorch.org/models/resnet18-f37072fd.pth\" to /root/.cache/torch/hub/checkpoints/resnet18-f37072fd.pth\n",
            "100% 44.7M/44.7M [00:00<00:00, 48.8MB/s]\n",
            "Loading model...\n",
            "No saved model parameters found\n",
            "Setting up interactive graph...\n",
            "/usr/local/lib/python3.7/dist-packages/torch/nn/functional.py:718: UserWarning: Named tensors and all their associated APIs are an experimental feature and subject to change. Please do not use them for anything important until they are released as stable. (Triggered internally at  /pytorch/c10/core/TensorImpl.h:1156.)\n",
            "  return torch.max_pool2d(input, kernel_size, stride, padding, dilation, ceil_mode)\n",
            "Epoch 0\n",
            "\tValidation Loss: 1.5621531040240557\n",
            "\tValidation Accuracy: 0.22115384615384615\n",
            "\tTrain Loss: 1.6118454036712646\n",
            "\tTrain Accuracy: 0.2\n",
            "<Figure size 1000x500 with 2 Axes>\n",
            "Epoch 1\n",
            "\tValidation Loss: 0.2723862174958086\n",
            "\tValidation Accuracy: 0.22115384615384615\n",
            "\tTrain Loss: 0.2752694666013122\n",
            "\tTrain Accuracy: 0.2\n",
            "Epoch 2\n",
            "\tValidation Loss: 0.21695295119290955\n",
            "\tValidation Accuracy: 0.22115384615384615\n",
            "\tTrain Loss: 0.19285648519545792\n",
            "\tTrain Accuracy: 0.2\n"
          ]
        }
      ]
    },
    {
      "cell_type": "code",
      "metadata": {
        "id": "Rd9zdzgAR4ha"
      },
      "source": [
        ""
      ],
      "execution_count": null,
      "outputs": []
    }
  ]
}