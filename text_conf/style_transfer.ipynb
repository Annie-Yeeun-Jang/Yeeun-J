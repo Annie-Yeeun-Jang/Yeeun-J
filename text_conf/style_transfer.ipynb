{
  "nbformat": 4,
  "nbformat_minor": 0,
  "metadata": {
    "colab": {
      "name": "style_transfer.ipynb",
      "provenance": [],
      "collapsed_sections": [],
      "authorship_tag": "ABX9TyOa5fubbp6uArWeeYFZQOxO",
      "include_colab_link": true
    },
    "kernelspec": {
      "name": "python3",
      "display_name": "Python 3"
    },
    "language_info": {
      "name": "python"
    }
  },
  "cells": [
    {
      "cell_type": "markdown",
      "metadata": {
        "id": "view-in-github",
        "colab_type": "text"
      },
      "source": [
        "<a href=\"https://colab.research.google.com/github/Annie-Yeeun-Jang/Yeeun-J/blob/master/text_conf/style_transfer.ipynb\" target=\"_parent\"><img src=\"https://colab.research.google.com/assets/colab-badge.svg\" alt=\"Open In Colab\"/></a>"
      ]
    },
    {
      "cell_type": "code",
      "metadata": {
        "colab": {
          "base_uri": "https://localhost:8080/"
        },
        "id": "bS0cj5RbjjXZ",
        "outputId": "4990b799-3a96-422b-f0ba-b9af0da205cc"
      },
      "source": [
        "from google.colab import drive\n",
        "drive.mount('./gdrive', force_remount=True)"
      ],
      "execution_count": 1,
      "outputs": [
        {
          "output_type": "stream",
          "text": [
            "Mounted at ./gdrive\n"
          ],
          "name": "stdout"
        }
      ]
    },
    {
      "cell_type": "code",
      "metadata": {
        "colab": {
          "base_uri": "https://localhost:8080/"
        },
        "id": "ejaHvzYb9U4e",
        "outputId": "c05ed71f-dc2e-43a3-aa2e-b4913dcbcf74"
      },
      "source": [
        "import os\n",
        "os.listdir()"
      ],
      "execution_count": 9,
      "outputs": [
        {
          "output_type": "execute_result",
          "data": {
            "text/plain": [
              "['Colab Notebooks',\n",
              " 'kaggle_nlp',\n",
              " '(translated) Discrete Mathmatics.pdf',\n",
              " '(translated) Introduction to programming(1) & Data Structure Algorithms.pdf',\n",
              " 'Engineering Statistics Syllabus.pdf',\n",
              " 'dacon_timeseries',\n",
              " 'texar',\n",
              " 'Copy of nonnative_dev',\n",
              " 'nonntaive (1).nonnative',\n",
              " 'COCA_preprocessed_merged',\n",
              " 'nonntaive.nonnative',\n",
              " 'Tsv_file.tsv',\n",
              " 'style-transformer',\n",
              " 'my_style-transformer']"
            ]
          },
          "metadata": {
            "tags": []
          },
          "execution_count": 9
        }
      ]
    },
    {
      "cell_type": "code",
      "metadata": {
        "id": "A37t2_HA9U7G"
      },
      "source": [
        "os.chdir('/content/gdrive/MyDrive/my_style-transformer')"
      ],
      "execution_count": 10,
      "outputs": []
    },
    {
      "cell_type": "code",
      "metadata": {
        "colab": {
          "base_uri": "https://localhost:8080/"
        },
        "id": "oSgRUy7L9U_P",
        "outputId": "f7162247-a3bd-4cd0-ca04-7c04f5f6b98a"
      },
      "source": [
        "!pip install pytorch_pretrained_bert"
      ],
      "execution_count": 13,
      "outputs": [
        {
          "output_type": "stream",
          "text": [
            "Collecting pytorch_pretrained_bert\n",
            "\u001b[?25l  Downloading https://files.pythonhosted.org/packages/d7/e0/c08d5553b89973d9a240605b9c12404bcf8227590de62bae27acbcfe076b/pytorch_pretrained_bert-0.6.2-py3-none-any.whl (123kB)\n",
            "\r\u001b[K     |██▋                             | 10kB 14.9MB/s eta 0:00:01\r\u001b[K     |█████▎                          | 20kB 18.9MB/s eta 0:00:01\r\u001b[K     |████████                        | 30kB 12.5MB/s eta 0:00:01\r\u001b[K     |██████████▋                     | 40kB 9.9MB/s eta 0:00:01\r\u001b[K     |█████████████▎                  | 51kB 5.3MB/s eta 0:00:01\r\u001b[K     |███████████████▉                | 61kB 5.5MB/s eta 0:00:01\r\u001b[K     |██████████████████▌             | 71kB 5.8MB/s eta 0:00:01\r\u001b[K     |█████████████████████▏          | 81kB 6.3MB/s eta 0:00:01\r\u001b[K     |███████████████████████▉        | 92kB 6.3MB/s eta 0:00:01\r\u001b[K     |██████████████████████████▌     | 102kB 5.1MB/s eta 0:00:01\r\u001b[K     |█████████████████████████████▏  | 112kB 5.1MB/s eta 0:00:01\r\u001b[K     |███████████████████████████████▊| 122kB 5.1MB/s eta 0:00:01\r\u001b[K     |████████████████████████████████| 133kB 5.1MB/s \n",
            "\u001b[?25hRequirement already satisfied: tqdm in /usr/local/lib/python3.7/dist-packages (from pytorch_pretrained_bert) (4.41.1)\n",
            "Requirement already satisfied: requests in /usr/local/lib/python3.7/dist-packages (from pytorch_pretrained_bert) (2.23.0)\n",
            "Requirement already satisfied: torch>=0.4.1 in /usr/local/lib/python3.7/dist-packages (from pytorch_pretrained_bert) (1.9.0+cu102)\n",
            "Collecting boto3\n",
            "\u001b[?25l  Downloading https://files.pythonhosted.org/packages/72/6e/f19e4ee5146b16da678cc61af9cfb99a9bfe18ebed03dd0c34d89b8106b8/boto3-1.17.103-py2.py3-none-any.whl (131kB)\n",
            "\u001b[K     |████████████████████████████████| 133kB 30.2MB/s \n",
            "\u001b[?25hRequirement already satisfied: numpy in /usr/local/lib/python3.7/dist-packages (from pytorch_pretrained_bert) (1.19.5)\n",
            "Requirement already satisfied: regex in /usr/local/lib/python3.7/dist-packages (from pytorch_pretrained_bert) (2019.12.20)\n",
            "Requirement already satisfied: urllib3!=1.25.0,!=1.25.1,<1.26,>=1.21.1 in /usr/local/lib/python3.7/dist-packages (from requests->pytorch_pretrained_bert) (1.24.3)\n",
            "Requirement already satisfied: chardet<4,>=3.0.2 in /usr/local/lib/python3.7/dist-packages (from requests->pytorch_pretrained_bert) (3.0.4)\n",
            "Requirement already satisfied: certifi>=2017.4.17 in /usr/local/lib/python3.7/dist-packages (from requests->pytorch_pretrained_bert) (2021.5.30)\n",
            "Requirement already satisfied: idna<3,>=2.5 in /usr/local/lib/python3.7/dist-packages (from requests->pytorch_pretrained_bert) (2.10)\n",
            "Requirement already satisfied: typing-extensions in /usr/local/lib/python3.7/dist-packages (from torch>=0.4.1->pytorch_pretrained_bert) (3.7.4.3)\n",
            "Collecting s3transfer<0.5.0,>=0.4.0\n",
            "\u001b[?25l  Downloading https://files.pythonhosted.org/packages/63/d0/693477c688348654ddc21dcdce0817653a294aa43f41771084c25e7ff9c7/s3transfer-0.4.2-py2.py3-none-any.whl (79kB)\n",
            "\u001b[K     |████████████████████████████████| 81kB 9.3MB/s \n",
            "\u001b[?25hCollecting jmespath<1.0.0,>=0.7.1\n",
            "  Downloading https://files.pythonhosted.org/packages/07/cb/5f001272b6faeb23c1c9e0acc04d48eaaf5c862c17709d20e3469c6e0139/jmespath-0.10.0-py2.py3-none-any.whl\n",
            "Collecting botocore<1.21.0,>=1.20.103\n",
            "\u001b[?25l  Downloading https://files.pythonhosted.org/packages/fc/ec/7b1657c31d73b8975e91d10780b9de750acf7e2fcd7cce6c1bd4aa3efd0d/botocore-1.20.103-py2.py3-none-any.whl (7.7MB)\n",
            "\u001b[K     |████████████████████████████████| 7.7MB 36.4MB/s \n",
            "\u001b[?25hRequirement already satisfied: python-dateutil<3.0.0,>=2.1 in /usr/local/lib/python3.7/dist-packages (from botocore<1.21.0,>=1.20.103->boto3->pytorch_pretrained_bert) (2.8.1)\n",
            "Requirement already satisfied: six>=1.5 in /usr/local/lib/python3.7/dist-packages (from python-dateutil<3.0.0,>=2.1->botocore<1.21.0,>=1.20.103->boto3->pytorch_pretrained_bert) (1.15.0)\n",
            "\u001b[31mERROR: botocore 1.20.103 has requirement urllib3<1.27,>=1.25.4, but you'll have urllib3 1.24.3 which is incompatible.\u001b[0m\n",
            "Installing collected packages: jmespath, botocore, s3transfer, boto3, pytorch-pretrained-bert\n",
            "Successfully installed boto3-1.17.103 botocore-1.20.103 jmespath-0.10.0 pytorch-pretrained-bert-0.6.2 s3transfer-0.4.2\n"
          ],
          "name": "stdout"
        }
      ]
    },
    {
      "cell_type": "code",
      "metadata": {
        "colab": {
          "base_uri": "https://localhost:8080/"
        },
        "id": "Ee3yfZZ09U9W",
        "outputId": "4096ef47-ed3a-49b8-9595-912e24ef423b"
      },
      "source": [
        "!python main.py"
      ],
      "execution_count": 14,
      "outputs": [
        {
          "output_type": "stream",
          "text": [
            "installing fasttext is done\n",
            "installing pytorch_pretrained_bert is done\n",
            "[nltk_data] Downloading package punkt to /root/nltk_data...\n",
            "[nltk_data]   Unzipping tokenizers/punkt.zip.\n",
            "Traceback (most recent call last):\n",
            "  File \"main.py\", line 79, in <module>\n",
            "    main()\n",
            "  File \"main.py\", line 69, in main\n",
            "    train_iters, dev_iters, test_iters, vocab = load_dataset(config)\n",
            "  File \"/content/gdrive/My Drive/my_style-transformer/data.py\", line 32, in load_dataset\n",
            "    train_native_set, train_nonnative_set = map(dataset_fn, [train_native, train_nonnative])\n",
            "  File \"/content/gdrive/My Drive/my_style-transformer/data.py\", line 29, in <lambda>\n",
            "    fields=[('text', TEXT)]\n",
            "  File \"/usr/local/lib/python3.7/dist-packages/torchtext/legacy/data/dataset.py\", line 254, in __init__\n",
            "    with io.open(os.path.expanduser(path), encoding=\"utf8\") as f:\n",
            "FileNotFoundError: [Errno 2] No such file or directory: '/content/drive/Shareddrives/text_conf/style-transformer/data/dataset/native_train'\n"
          ],
          "name": "stdout"
        }
      ]
    },
    {
      "cell_type": "code",
      "metadata": {
        "id": "39_M1WGu_gX4"
      },
      "source": [
        ""
      ],
      "execution_count": null,
      "outputs": []
    }
  ]
}